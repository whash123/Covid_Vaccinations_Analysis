{
 "cells": [
  {
   "cell_type": "code",
   "execution_count": null,
   "metadata": {},
   "outputs": [],
   "source": [
    "# source = https://www.kaggle.com/gpreda/covid-world-vaccination-progress/code?datasetId=1093816&sortBy=voteCount\n",
    "\n",
    "## standard data processing and analysis packages\n",
    "import pandas as pd\n",
    "import numpy as np\n",
    "\n",
    "\n",
    "## packages for visualization, i will be using both plotly express here\n",
    "import plotly.express as px\n",
    "import plotly.graph_objects as go\n",
    "\n",
    "\n",
    "## to predict completed vaccinations date\n",
    "from scipy.optimize import curve_fit\n",
    "\n",
    "\n",
    "import datetime\n",
    "import warnings; warnings.simplefilter('ignore')"
   ]
  },
  {
   "cell_type": "code",
   "execution_count": null,
   "metadata": {},
   "outputs": [],
   "source": [
    "## reading in the daily country vaccinations file\n",
    "## note, with the link cited above, this file gets re-uploaded each day with new daily data\n",
    "df = pd.read_csv('country_vaccinations.csv')"
   ]
  },
  {
   "cell_type": "code",
   "execution_count": null,
   "metadata": {},
   "outputs": [],
   "source": [
    "df.head()"
   ]
  },
  {
   "cell_type": "code",
   "execution_count": null,
   "metadata": {},
   "outputs": [],
   "source": [
    "df.describe()"
   ]
  },
  {
   "cell_type": "code",
   "execution_count": null,
   "metadata": {},
   "outputs": [],
   "source": [
    "## here i have brought in a mapping file that maps countries to their respective continents\n",
    "## this will be helpful for tree maps, coloring, etc.\n",
    "continents = pd.read_csv('country_continents.csv')"
   ]
  },
  {
   "cell_type": "code",
   "execution_count": null,
   "metadata": {},
   "outputs": [],
   "source": [
    "continents.head()"
   ]
  },
  {
   "cell_type": "code",
   "execution_count": null,
   "metadata": {},
   "outputs": [],
   "source": [
    "## here we are merging vaccination data with the continent data\n",
    "full_df = df.drop(['source_name', 'source_website'], axis = 1) \\\n",
    "    .merge(right = continents, how = 'left', left_on = 'country', right_on = 'Country') \\\n",
    "    .drop('Country', axis = 1)"
   ]
  },
  {
   "cell_type": "code",
   "execution_count": null,
   "metadata": {},
   "outputs": [],
   "source": [
    "full_df.head()"
   ]
  },
  {
   "cell_type": "code",
   "execution_count": null,
   "metadata": {},
   "outputs": [],
   "source": [
    "## some issues with numpy NaN values will cause issues with our initial charts\n",
    "## note, we will be forward filling the progression variables soon\n",
    "full_df = full_df.replace(np.nan, 0)"
   ]
  },
  {
   "cell_type": "code",
   "execution_count": null,
   "metadata": {},
   "outputs": [],
   "source": [
    "## making date a datetime variable instead of string will help with charting and time manipulation later\n",
    "full_df['date'] = pd.to_datetime(full_df['date'])"
   ]
  },
  {
   "cell_type": "code",
   "execution_count": null,
   "metadata": {},
   "outputs": [],
   "source": [
    "full_df.dtypes"
   ]
  },
  {
   "cell_type": "code",
   "execution_count": null,
   "metadata": {},
   "outputs": [],
   "source": [
    "## here this is a basic map of which countries are using which sets of vaccinations\n",
    "## these are pretty region-dependent, based on which companies each country can get vaccines from\n",
    "map_vaccines = px.choropleth(locations = full_df['country'], \n",
    "                             color = full_df['vaccines'],\n",
    "                             locationmode = \"country names\",\n",
    "                             title = \"Countries using each set of vaccinations\",\n",
    "                             height = 800\n",
    "                             )\n",
    "map_vaccines.update_layout({'legend_orientation':'h', 'legend_title':'Set of vaccinations'})\n",
    "map_vaccines.show()"
   ]
  },
  {
   "cell_type": "code",
   "execution_count": null,
   "metadata": {},
   "outputs": [],
   "source": [
    "## this will just give us a simple dictionary for each unique set of vaccinations that are mapped above\n",
    "## we will now have the number of countries each set can be found in, along with the list of countries\n",
    "count_vacc_sets = {}\n",
    "for vacc_set in full_df['vaccines'].unique():\n",
    "    vacc_df = full_df[full_df['vaccines'] == vacc_set]\n",
    "    list_countries = list(vacc_df['country'].unique())\n",
    "    n_countries = len(list_countries)\n",
    "    count_vacc_sets[vacc_set] = {\n",
    "        'count': n_countries,\n",
    "        'countries': list_countries\n",
    "    }"
   ]
  },
  {
   "cell_type": "code",
   "execution_count": null,
   "metadata": {},
   "outputs": [],
   "source": [
    "vacc_set_df = pd.DataFrame(count_vacc_sets).transpose().reset_index().rename(columns = {'index': 'vaccine_set'})"
   ]
  },
  {
   "cell_type": "code",
   "execution_count": null,
   "metadata": {},
   "outputs": [],
   "source": [
    "## here we can find the df version of this dictionary, which will be useful to chart\n",
    "vacc_set_df.head()"
   ]
  },
  {
   "cell_type": "code",
   "execution_count": null,
   "metadata": {},
   "outputs": [],
   "source": [
    "## using a treemap instead of a bar chart for aesthetics, you can see just how prevalent the more popular vaccinations are\n",
    "## some region-specific ones can only be found in a handful of countries\n",
    "fig = px.treemap(vacc_set_df,\n",
    "                 path = ['vaccine_set'],\n",
    "                 values = 'count',\n",
    "                 title = 'Number of countries each unique set of vaccines can be found in',\n",
    "                 height = 600, width = 800)\n",
    "fig.data[0].textinfo = 'label+text+value'\n",
    "fig.show()"
   ]
  },
  {
   "cell_type": "code",
   "execution_count": null,
   "metadata": {},
   "outputs": [],
   "source": [
    "## since there is overlap of vaccines in each country, let's make a map for each one of the vaccines\n",
    "## this will get us a list of all of the individual vaccinations available in this dataset\n",
    "unique_vaccines = []\n",
    "for total_vacc in list(full_df.vaccines.unique()):\n",
    "    split_vaccs = total_vacc.split(', ')\n",
    "    for comp in split_vaccs:\n",
    "        if comp not in unique_vaccines:\n",
    "            unique_vaccines.append(comp)\n",
    "            \n",
    "print(unique_vaccines)"
   ]
  },
  {
   "cell_type": "code",
   "execution_count": null,
   "metadata": {
    "scrolled": true
   },
   "outputs": [],
   "source": [
    "## using the above unique list, we can make a similar dictionary to our previous one\n",
    "## here, instead of each key being a unique \"set\" of multiple vaccines, we have each individual vaccine\n",
    "## this will be helpful to build individual-vaccine-specific maps and plots that can highlight their rollout\n",
    "vacc_all_countries = {}\n",
    "for vacc_comp in unique_vaccines:\n",
    "    countries = full_df[full_df.vaccines.str.contains(vacc_comp)]['country'].unique().tolist()\n",
    "    vacc_all_countries[vacc_comp] = {\n",
    "        'number': len(countries),\n",
    "        'list_countries': countries\n",
    "    }\n",
    "\n",
    "vacc_all_countries"
   ]
  },
  {
   "cell_type": "code",
   "execution_count": null,
   "metadata": {},
   "outputs": [],
   "source": [
    "## an easy way to be able to filter down the big dataframe to only include countries that have a certain vaccine available\n",
    "## is to make a new boolean or binary True/False column for each vaccine, where True represents if the country has access to that vaccine\n",
    "def binary_vacc(country, vaccine):\n",
    "    if country in vacc_all_countries[vaccine]['list_countries']:\n",
    "        return True\n",
    "    else:\n",
    "        return False\n",
    "\n",
    "for vacc in vacc_all_countries.keys():\n",
    "    full_df[vacc] = full_df['country'].apply(binary_vacc, vaccine = vacc)"
   ]
  },
  {
   "cell_type": "code",
   "execution_count": null,
   "metadata": {},
   "outputs": [],
   "source": [
    "full_df.head()"
   ]
  },
  {
   "cell_type": "code",
   "execution_count": null,
   "metadata": {},
   "outputs": [],
   "source": [
    "## these are our progression variables\n",
    "## these all represent the progress a country is making, but the df resets to 0 for every day these aren't updated / there is no more progress\n",
    "## so, to rectify this, we can forward fill each of these. so in the event of a \"0\", we fill in the previous day's value\n",
    "cols_to_ffill = ['total_vaccinations', 'people_vaccinated', 'people_fully_vaccinated', 'total_vaccinations_per_hundred', 'people_vaccinated_per_hundred', 'people_fully_vaccinated_per_hundred']"
   ]
  },
  {
   "cell_type": "code",
   "execution_count": null,
   "metadata": {},
   "outputs": [],
   "source": [
    "## this function will allow us to see a full map of each country that each individual vaccine can be found in\n",
    "## it will also show a line chart with a line for each country, showing their vaccination progress\n",
    "## NOTE: this is NOT how the vaccination progress in that country for the specific vaccine, but progress in total for that country\n",
    "## it's currently impossible to distribute a country's vaccinations across the vaccines they have access to, so we have to keep them bundled\n",
    "def vaccine_map(vaccine_name = None):\n",
    "    if (vaccine_name is None):\n",
    "        print('Error must input a vaccine type')\n",
    "    else: \n",
    "        filter_df = full_df[full_df[vaccine_name] == True]\n",
    "        map_vaccines = px.choropleth(locations = filter_df['country'], \n",
    "                             color = filter_df[vaccine_name],\n",
    "                             locationmode = \"country names\",\n",
    "                             title = f\"Countries using {vaccine_name}\",\n",
    "                             height = 500\n",
    "                             )\n",
    "        map_vaccines.update_layout(showlegend=False)\n",
    "        map_vaccines.show()\n",
    "        \n",
    "        lines = []\n",
    "        for country in filter_df['country'].unique():\n",
    "            vacc_data = filter_df[filter_df['country'] == country]\n",
    "            \n",
    "            for col in cols_to_ffill:\n",
    "                vacc_data[col] = vacc_data[col].replace(to_replace = 0, method = 'ffill')\n",
    "            \n",
    "            lines.append(\n",
    "                go.Scatter(\n",
    "                    name = country,\n",
    "                    x = vacc_data['date'],\n",
    "                    mode = 'lines+markers',\n",
    "                    y = vacc_data['total_vaccinations_per_hundred']\n",
    "                )\n",
    "            )\n",
    "\n",
    "        vaccine_line_plot = go.Figure(lines)\n",
    "        vaccine_line_plot.update_layout(\n",
    "            title = f'Vaccination progress per country using {vaccine_name} as one of its vaccination suppliers',\n",
    "            yaxis_title = \"Vaccinations Per Hundred People\",\n",
    "            hovermode = 'x',\n",
    "            legend_orientation = 'h',\n",
    "            height = 800\n",
    "        )\n",
    "\n",
    "        vaccine_line_plot.show()"
   ]
  },
  {
   "cell_type": "code",
   "execution_count": null,
   "metadata": {},
   "outputs": [],
   "source": [
    "## we will look at the bigger vaccines, omitting vaccines that can only be found in one or two countries\n",
    "## pfizer progress\n",
    "vaccine_map('Pfizer/BioNTech')"
   ]
  },
  {
   "cell_type": "code",
   "execution_count": null,
   "metadata": {},
   "outputs": [],
   "source": [
    "## moderna progress\n",
    "vaccine_map('Moderna')"
   ]
  },
  {
   "cell_type": "code",
   "execution_count": null,
   "metadata": {},
   "outputs": [],
   "source": [
    "## astrazeneca progress\n",
    "vaccine_map('Oxford/AstraZeneca')"
   ]
  },
  {
   "cell_type": "code",
   "execution_count": null,
   "metadata": {},
   "outputs": [],
   "source": [
    "## sputnik progress\n",
    "vaccine_map('Sputnik V')"
   ]
  },
  {
   "cell_type": "code",
   "execution_count": null,
   "metadata": {},
   "outputs": [],
   "source": [
    "## sinopharm beijing progress\n",
    "vaccine_map('Sinopharm/Beijing')"
   ]
  },
  {
   "cell_type": "code",
   "execution_count": null,
   "metadata": {},
   "outputs": [],
   "source": [
    "## sinovac progress\n",
    "vaccine_map('Sinovac')"
   ]
  },
  {
   "cell_type": "code",
   "execution_count": null,
   "metadata": {},
   "outputs": [],
   "source": [
    "## here we are just building a df version of our previous dictionary\n",
    "## we are also sorting by number of countries accessible, so we can make a bar chart shortly after\n",
    "unique_vaccines_countries = pd.DataFrame(vacc_all_countries).transpose().reset_index().rename(columns = {'index': 'vaccine_company'}).sort_values(by = 'number', ascending = False)"
   ]
  },
  {
   "cell_type": "code",
   "execution_count": null,
   "metadata": {},
   "outputs": [],
   "source": [
    "unique_vaccines_countries.head()"
   ]
  },
  {
   "cell_type": "code",
   "execution_count": null,
   "metadata": {},
   "outputs": [],
   "source": [
    "## quick and easy bar chart showing how many countries each vaccination can be found in\n",
    "fig = px.bar(unique_vaccines_countries,\n",
    "             x = 'vaccine_company', y = 'number',\n",
    "             labels = {'vaccine_company': 'Vaccination Company', 'number': 'Number of Countries Available'})\n",
    "fig.show()"
   ]
  },
  {
   "cell_type": "code",
   "execution_count": null,
   "metadata": {},
   "outputs": [],
   "source": [
    "all_countries = full_df['country'].unique().tolist()\n",
    "print(all_countries[0:10])\n",
    "print(f'We have: {len(all_countries)} countries in the dataset')"
   ]
  },
  {
   "cell_type": "code",
   "execution_count": null,
   "metadata": {},
   "outputs": [],
   "source": [
    "## since each country started vaccinating citizens on different days, sometimes it is helpful to look at how their progress is going while comparing from their initial start date\n",
    "## using this function, we will be able to add a column for which # day each country is on in vaccinating its citizens\n",
    "def days_since_start(date, first_date):\n",
    "    if (date <= first_date):\n",
    "        return 0\n",
    "    else:\n",
    "        delta = date - first_date\n",
    "        return delta.days"
   ]
  },
  {
   "cell_type": "code",
   "execution_count": null,
   "metadata": {},
   "outputs": [],
   "source": [
    "## in this cell we are doing a lot of adjustments to create new columns that detail some country-specific progress information\n",
    "## that is why we need to slice the dataframe for each country and create columns based on their own progress then stitch it all back together again\n",
    "adjusted_df = full_df[full_df['country'] == all_countries[0]]\n",
    "a_first_vaccination = min(adjusted_df['date'])\n",
    "a_total_vaccinations = max(adjusted_df['total_vaccinations'])\n",
    "a_total_people_vaccinated = max(adjusted_df['people_vaccinated'])\n",
    "\n",
    "cols_to_ffill = ['total_vaccinations', 'people_vaccinated', 'people_fully_vaccinated', 'total_vaccinations_per_hundred', 'people_vaccinated_per_hundred', 'people_fully_vaccinated_per_hundred']\n",
    "\n",
    "for col in cols_to_ffill:\n",
    "    adjusted_df[col] = adjusted_df[col].replace(to_replace = 0, method = 'ffill')\n",
    "\n",
    "## here we are creating a new column for each country that shows how many days since they started vaccinating\n",
    "adjusted_df['vaccination_day_number'] = adjusted_df['date'].apply(days_since_start, first_date = a_first_vaccination)\n",
    "\n",
    "## this column will be for what percent of a country's total / final vaccinations (as of today) they have vaccinated\n",
    "## that way, we can compare progress as a function of how many vaccinations each country was able to administer\n",
    "adjusted_df['percent_total_vaccinations'] = adjusted_df['total_vaccinations'] / a_total_vaccinations\n",
    "\n",
    "## this is the same function, but for people vaccinated. this will be useful in comparing the rate at which countries were able to efficiently administer vaccines to new people\n",
    "adjusted_df['percent_people_vaccinated'] = adjusted_df['people_vaccinated'] / a_total_people_vaccinated\n",
    "\n",
    "all_countries_left = all_countries[1:]\n",
    "\n",
    "for country in all_countries_left:\n",
    "    country_df = full_df[full_df['country'] == country]\n",
    "    c_first_vaccination = min(country_df['date'])\n",
    "    c_total_vaccinations = max(country_df['total_vaccinations'])\n",
    "    c_total_people_vaccinated = max(country_df['people_vaccinated'])\n",
    "    \n",
    "    for col in cols_to_ffill:\n",
    "        country_df[col] = country_df[col].replace(to_replace = 0, method = 'ffill')\n",
    "    \n",
    "    country_df['vaccination_day_number'] = country_df['date'].apply(days_since_start, first_date = c_first_vaccination)\n",
    "    country_df['percent_total_vaccinations'] = country_df['total_vaccinations'] / c_total_vaccinations\n",
    "    country_df['percent_people_vaccinated'] = country_df['people_vaccinated'] / c_total_people_vaccinated\n",
    "    \n",
    "    adjusted_df = pd.concat([adjusted_df, country_df], axis = 0)"
   ]
  },
  {
   "cell_type": "code",
   "execution_count": null,
   "metadata": {},
   "outputs": [],
   "source": [
    "## now we have our final adjusted dataframe, where we have new columns at the end that help compare progress for each country\n",
    "adjusted_df.head()"
   ]
  },
  {
   "cell_type": "code",
   "execution_count": null,
   "metadata": {},
   "outputs": [],
   "source": [
    "## here we are comparing each the vaccination progress for each country that a vaccination can be found in\n",
    "## again, NOTE this is NOT saying this is how many vaccinations have been rolled out for each vaccine type\n",
    "## rather, saying that for each country a vaccination can be found in, here is the total progress of those countries\n",
    "lines = []\n",
    "for vacc in vacc_all_countries.keys():\n",
    "    vacc_df = adjusted_df[adjusted_df[vacc] == True]\n",
    "    \n",
    "    grouped = pd.DataFrame(vacc_df.groupby('date').sum()).reset_index()\n",
    "    lines.append(\n",
    "            go.Scatter(\n",
    "            name = vacc,\n",
    "            x = grouped['date'],\n",
    "            mode = 'lines+markers',\n",
    "            y = grouped['total_vaccinations'],\n",
    "        )\n",
    "    )\n",
    "    \n",
    "fig = go.Figure(lines)\n",
    "fig.update_layout(\n",
    "    title = 'Vaccination progress for the countries each vaccine can be found in',\n",
    "    yaxis_title = \"Count\",\n",
    "    hovermode = 'x',\n",
    "    legend_orientation = 'h',\n",
    "    height = 800\n",
    ")\n",
    "\n",
    "fig.show()"
   ]
  },
  {
   "cell_type": "code",
   "execution_count": null,
   "metadata": {},
   "outputs": [],
   "source": [
    "## also unideal, but since we can't attribute a country's vaccinations to individual types within the country\n",
    "## we can just plot the same analysis as above, but for unique vaccination sets\n",
    "## so now we will have a line for each country that has the total set of vaccinations present\n",
    "lines = []\n",
    "for vacc_set in adjusted_df['vaccines'].unique():\n",
    "    vacc_df = adjusted_df[adjusted_df['vaccines'] == vacc_set]\n",
    "\n",
    "    grouped = pd.DataFrame(vacc_df.groupby('date').sum()).reset_index()\n",
    "    lines.append(\n",
    "            go.Scatter(\n",
    "            name = vacc_set,\n",
    "            x = grouped['date'],\n",
    "            mode = 'lines+markers',\n",
    "            y = grouped['total_vaccinations'],\n",
    "        )\n",
    "    )\n",
    "    \n",
    "fig = go.Figure(lines)\n",
    "fig.update_layout(\n",
    "    title = 'Vaccination progress per set of vaccine present in each country',\n",
    "    yaxis_title = \"Number of vaccines administered\",\n",
    "    hovermode = 'x',\n",
    "    legend_orientation = 'h',\n",
    "    height = 1000\n",
    ")\n",
    "\n",
    "fig.show()"
   ]
  },
  {
   "cell_type": "code",
   "execution_count": null,
   "metadata": {},
   "outputs": [],
   "source": [
    "## here we are loading in another auxiliary dataframe, giving population for each country\n",
    "## this will be helpful in some visualizations as metadata attached to it\n",
    "pop_dict = pd.read_csv('population_by_country_2020.csv')[['Country (or dependency)', 'Population (2020)']] \\\n",
    "    .rename(columns = {'Country (or dependency)': 'Country', 'Population (2020)': 'Population'})"
   ]
  },
  {
   "cell_type": "code",
   "execution_count": null,
   "metadata": {},
   "outputs": [],
   "source": [
    "pop_dict.head()"
   ]
  },
  {
   "cell_type": "code",
   "execution_count": null,
   "metadata": {},
   "outputs": [],
   "source": [
    "continents.head()"
   ]
  },
  {
   "cell_type": "code",
   "execution_count": null,
   "metadata": {},
   "outputs": [],
   "source": [
    "## here we are building one big \"current progress\" dataframe, giving one row per country\n",
    "## detailing how they fare as of today\n",
    "## whereas the original dataframe is a tall file listing individual days of progress,\n",
    "## we will use this to compare how countries have done up until this point in time\n",
    "max_vacc = {}\n",
    "for c in all_countries:\n",
    "    country_df = adjusted_df[adjusted_df['country'] == c]\n",
    "    max_total_vaccinations = max(country_df['total_vaccinations'])\n",
    "    max_total_vaccinations_per_hundred = max(country_df['total_vaccinations_per_hundred'])\n",
    "    day_started_vaccinating = min(country_df['date'])\n",
    "    days_spent_vaccinating = max(country_df['vaccination_day_number'])\n",
    "    max_vacc[c] = {\n",
    "        'total_vaccinations': max_total_vaccinations,\n",
    "        'total_per_hundred': max_total_vaccinations_per_hundred,\n",
    "        'day_started': day_started_vaccinating,\n",
    "        'days_since_starting': days_spent_vaccinating\n",
    "    }\n",
    "\n",
    "total_vacc_df = pd.DataFrame(max_vacc).transpose().reset_index()\\\n",
    "    .rename(columns = {'index': 'country'}).sort_values(by = 'total_vaccinations', ascending = False)\\\n",
    "    .merge(pop_dict, how = 'left', left_on = 'country', right_on = 'Country').drop('Country', axis = 1)\\\n",
    "    .merge(continents, how = 'left', left_on = 'country', right_on = 'Country').drop('Country', axis = 1)\\\n",
    "    .rename(columns = {'Population': 'population', 'Continent': 'continent'})\n",
    "\n",
    "total_vacc_df.head()"
   ]
  },
  {
   "cell_type": "code",
   "execution_count": null,
   "metadata": {},
   "outputs": [],
   "source": [
    "## this is another country function that you can play around with\n",
    "## here you can pass the top n number of countries you want to see, the time period you want to compare their progress, and whether or not to adjust vaccination progress for population\n",
    "## feel free to try out a couple, but i have shown some examples below\n",
    "def top_countries_chart(n = 25, time_period = 'date', pop_adjusted = True):\n",
    "    sorted_df = total_vacc_df.sort_values(by = 'total_vaccinations', ascending = False)\n",
    "    countries = sorted_df.iloc[0 : n, ]['country'].tolist()\n",
    "    \n",
    "    if (time_period != 'date' and time_period != 'vaccination_day_number'):\n",
    "        print('must have different time period entry')\n",
    "    elif time_period == 'date':\n",
    "        title = 'Vaccination progress per country by date'\n",
    "    elif time_period == 'vaccination_day_number':\n",
    "        title = 'Vaccination progress per country from the start of their vaccination rollout'\n",
    "\n",
    "    if pop_adjusted == True:\n",
    "        y_title = 'Vaccinations per hundred'\n",
    "        y_metric = 'total_vaccinations_per_hundred'\n",
    "    elif pop_adjusted == False:\n",
    "        y_title = 'Vaccinations'\n",
    "        y_metric = 'total_vaccinations'\n",
    "    else:\n",
    "        print('must have different pop adjusted entry')\n",
    "        \n",
    "    lines = []\n",
    "    for country in countries:\n",
    "        vacc_data = adjusted_df[adjusted_df['country'] == country]\n",
    "        lines.append(\n",
    "            go.Scatter(\n",
    "                name = country,\n",
    "                x = vacc_data[time_period],\n",
    "                mode = 'lines+markers',\n",
    "                y = vacc_data[y_metric],\n",
    "            )\n",
    "        )\n",
    "\n",
    "    fig = go.Figure(lines)\n",
    "    fig.update_layout(\n",
    "        title = title,\n",
    "        yaxis_title = y_title,\n",
    "        hovermode = 'x',\n",
    "        legend_orientation = 'h',\n",
    "        height = 800\n",
    "    )\n",
    "\n",
    "    fig.show()"
   ]
  },
  {
   "cell_type": "code",
   "execution_count": null,
   "metadata": {},
   "outputs": [],
   "source": [
    "## here we see the top 50 countries, comparing by raw date, and showing raw total vaccinations\n",
    "top_countries_chart(n = 50, time_period = 'date', pop_adjusted = False)"
   ]
  },
  {
   "cell_type": "code",
   "execution_count": null,
   "metadata": {},
   "outputs": [],
   "source": [
    "## here we see the top 50 countries, comparing by day number since starting vaccinating, and showing raw total vaccinations\n",
    "top_countries_chart(n = 50, time_period = 'vaccination_day_number', pop_adjusted = False)"
   ]
  },
  {
   "cell_type": "code",
   "execution_count": null,
   "metadata": {},
   "outputs": [],
   "source": [
    "## here we see the top 50 countries, comparing by raw date, and showing vaccinations per hundred people\n",
    "top_countries_chart(n = 30, time_period = 'date', pop_adjusted = True)"
   ]
  },
  {
   "cell_type": "code",
   "execution_count": null,
   "metadata": {},
   "outputs": [],
   "source": [
    "## here we see the top 50 countries, comparing by day number since starting vaccinating, and showing vaccinations per hundred people\n",
    "top_countries_chart(n = 30, time_period = 'vaccination_day_number', pop_adjusted = True)"
   ]
  },
  {
   "cell_type": "code",
   "execution_count": null,
   "metadata": {},
   "outputs": [],
   "source": [
    "## here we can plot the total progress of the top 25 countries as of today\n",
    "## it shows countries with the top 25 number of total vaccinations, compared to how they are doing adjusted for their population (per hundred)\n",
    "## feel free to change the n down below to see more or fewer countries\n",
    "n = 25\n",
    "fig = px.scatter(total_vacc_df.iloc[0:n, ],\n",
    "           x = 'total_vaccinations',\n",
    "           y = 'total_per_hundred',\n",
    "           size = 'population',\n",
    "           hover_name = 'country',\n",
    "           color = 'continent',\n",
    "           size_max = 80,\n",
    "           height = 800,\n",
    "           title = 'Comparing country progress for total vaccinations and total vaccinations per hundred people',\n",
    "           labels = dict(total_per_hundred = \"Total Vaccinations per Hundred People\", total_vaccinations = \"Total Vaccinations (raw)\"))\n",
    "\n",
    "fig.show()"
   ]
  },
  {
   "cell_type": "code",
   "execution_count": null,
   "metadata": {},
   "outputs": [],
   "source": [
    "total_vacc_df.head()"
   ]
  },
  {
   "cell_type": "code",
   "execution_count": null,
   "metadata": {},
   "outputs": [],
   "source": [
    "total_vacc_df.dtypes"
   ]
  },
  {
   "cell_type": "code",
   "execution_count": null,
   "metadata": {},
   "outputs": [],
   "source": [
    "## just some cleaning for some division later\n",
    "total_vacc_df['days_since_starting'] = total_vacc_df['days_since_starting'].astype('float64')\n",
    "total_vacc_df['total_per_hundred'] = total_vacc_df['total_per_hundred'].astype('float64')\n",
    "total_vacc_df = total_vacc_df[total_vacc_df['days_since_starting'] > 0]"
   ]
  },
  {
   "cell_type": "code",
   "execution_count": null,
   "metadata": {},
   "outputs": [],
   "source": [
    "## this, while not the most informative variable, will show us the straightline average percent of the population each country is vaccinating *per day* since they started vaccinating\n",
    "total_vacc_df['average_daily_percent_vaccinated'] = round(total_vacc_df['total_per_hundred'] / total_vacc_df['days_since_starting'], 4)"
   ]
  },
  {
   "cell_type": "code",
   "execution_count": null,
   "metadata": {},
   "outputs": [],
   "source": [
    "## adding in a plain text column just as a parent for our treemap\n",
    "total_vacc_df['world'] = 'world'"
   ]
  },
  {
   "cell_type": "code",
   "execution_count": null,
   "metadata": {},
   "outputs": [],
   "source": [
    "total_vacc_df.head()"
   ]
  },
  {
   "cell_type": "code",
   "execution_count": null,
   "metadata": {},
   "outputs": [],
   "source": [
    "total_vacc_df = total_vacc_df.replace(np.inf, np.nan)"
   ]
  },
  {
   "cell_type": "code",
   "execution_count": null,
   "metadata": {},
   "outputs": [],
   "source": [
    "## this is another plotting function that you can play with\n",
    "## you can pass one of two vals, if you want to see current total vaccinations per hundred or average vaccinations per hundred *per day\n",
    "## you can also put in a minimum population for a country to be included\n",
    "## this is because, since each value you can pass is adjusted for population, countries with super low populations find their way to the top of the list\n",
    "def avg_vaccination_progress(vals, min_pop = 10000000):\n",
    "    if vals != 'total' and vals != 'average':\n",
    "        print('must input an appropriate value type')\n",
    "    elif vals == 'total':\n",
    "        val_metric = 'total_per_hundred'\n",
    "    elif vals == 'average':\n",
    "        val_metric = 'average_daily_percent_vaccinated'\n",
    "    \n",
    "    chart_df = total_vacc_df[total_vacc_df['population'] >= min_pop]\n",
    "    fig = px.treemap(chart_df,\n",
    "                     path = ['world', 'continent', 'country'],\n",
    "                     values = val_metric,\n",
    "                     height = 750)\n",
    "    fig.data[0].textinfo = 'label+text+value'\n",
    "\n",
    "    fig.show()"
   ]
  },
  {
   "cell_type": "code",
   "execution_count": null,
   "metadata": {},
   "outputs": [],
   "source": [
    "## here we can see the top countries per continent in terms of total vaccinations per hundred\n",
    "## only showing countries with 10M + population\n",
    "avg_vaccination_progress(min_pop = 10000000, vals = 'total')"
   ]
  },
  {
   "cell_type": "code",
   "execution_count": null,
   "metadata": {},
   "outputs": [],
   "source": [
    "## now we can see the same chart, but showing average population percent vaccinated per day\n",
    "## and showing countries with above 1M population\n",
    "avg_vaccination_progress(min_pop = 1000000, vals = 'average')"
   ]
  },
  {
   "cell_type": "code",
   "execution_count": null,
   "metadata": {
    "scrolled": false
   },
   "outputs": [],
   "source": [
    "## here we have a bar chart for the countries within each continent\n",
    "## showing the most efficient countries at vaccinating their population\n",
    "## the color is showing total vaccinations per hundred people, darker color meaning more vaccinations administered\n",
    "for cont in total_vacc_df['continent'].unique():\n",
    "    continent_df = total_vacc_df[total_vacc_df['continent'] == cont]\n",
    "    sorted_df = continent_df.sort_values(by = 'average_daily_percent_vaccinated', ascending = False)\n",
    "    \n",
    "    fig = px.bar(sorted_df.sort_values(by = 'average_daily_percent_vaccinated', ascending = False),\n",
    "                 x = 'country', y = 'average_daily_percent_vaccinated',\n",
    "                 color = 'total_per_hundred',\n",
    "                 color_continuous_scale = 'deep',\n",
    "                 width = 800,\n",
    "                 height = 500,\n",
    "                 title = cont,\n",
    "                 labels = dict(total_per_hundred = 'Total Vaccinations Per Hundred', average_daily_percent_vaccinated = 'Average % Population Vaccinated Per Day', country = 'Country'))\n",
    "    fig.show()"
   ]
  },
  {
   "cell_type": "code",
   "execution_count": null,
   "metadata": {},
   "outputs": [],
   "source": [
    "## now let's do something fun - predict when each country will finish vaccinating their entire population!\n",
    "## first we need to find each country that has enough data to actually fit a curve\n",
    "countries_to_predict = []\n",
    "for country in adjusted_df['country'].unique():\n",
    "    check_df = adjusted_df[adjusted_df['country'] == country]\n",
    "    if max(check_df['people_vaccinated_per_hundred']) > 0:\n",
    "         countries_to_predict.append(country)\n",
    "len(countries_to_predict)"
   ]
  },
  {
   "cell_type": "code",
   "execution_count": null,
   "metadata": {},
   "outputs": [],
   "source": [
    "## slow down - this is NOT going to be a robust machine learning project aimed at making precise predictions\n",
    "## this is just a fun quick and dirty scipy curve_fit application to show when each country will finish vaccinating its citizens, if it keeps on its current progress\n",
    "## note - this simplistic, prone-to-overfitting, parabola-based curve_fit has flaws\n",
    "## the biggest of which is that, for almost every country where vaccinations (adjusted for population) has slowed down in recent times, this will say it keeps slowing down until inevitably there's no more progress!\n",
    "## which obviously isn't true, but that does mean it will think those countries never successfully finish vaccinating their citizens\n",
    "## for now, as this is a simple example exercise for a final visualization, we will omit those!\n",
    "def curve_func(x, a, b, c):\n",
    "    return a * x + b * x**2 + c\n",
    "\n",
    "country_results = {}\n",
    "\n",
    "for country in countries_to_predict:\n",
    "    country_df = adjusted_df[adjusted_df['country'] == country]\n",
    "    \n",
    "    if(country_df.shape[0] >= 5):\n",
    "        xdata = np.array(country_df['vaccination_day_number'])\n",
    "        ydata = np.array(country_df['people_vaccinated_per_hundred'])\n",
    "\n",
    "        popt, pcov = curve_fit(curve_func, xdata = xdata, ydata = ydata)\n",
    "\n",
    "        x = 0\n",
    "        max_perc_vacc = 0\n",
    "        day_for_max = 0\n",
    "\n",
    "        while x < 365:\n",
    "            pred = popt[0] * x + popt[1]* x**2 + popt[2]\n",
    "            if max_perc_vacc < 100:\n",
    "                if pred > max_perc_vacc:\n",
    "                    max_perc_vacc = pred\n",
    "                    day_for_max = x\n",
    "\n",
    "            if pred >= 100:\n",
    "                max_perc_vacc = pred\n",
    "                day_for_max = x\n",
    "                break\n",
    "            elif pred < 100:\n",
    "                x = x + 1\n",
    "\n",
    "        if max_perc_vacc >= 100:\n",
    "            country_results[country] = day_for_max"
   ]
  },
  {
   "cell_type": "code",
   "execution_count": null,
   "metadata": {},
   "outputs": [],
   "source": [
    "## and here we have it! this dictionary tells us, for each country that will finish vaccinating its citizens, how many days after starting it will take them\n",
    "## with this data, using our country-adjusted dataframe, we can add this number to each country's first vaccination date to find their final vaccination date!\n",
    "country_results"
   ]
  },
  {
   "cell_type": "code",
   "execution_count": null,
   "metadata": {},
   "outputs": [],
   "source": [
    "## the above few cells are doing just that, using this dictionary and our summary datafile to find our \"predicted\" end date for each country to be fully vaccinated!\n",
    "country_results_df = pd.DataFrame(country_results, index = ['days_until_fully_vaccinated']).transpose()\\\n",
    "    .reset_index().rename(columns = {'index': 'country'})\n",
    "\n",
    "country_results_df.head()"
   ]
  },
  {
   "cell_type": "code",
   "execution_count": null,
   "metadata": {},
   "outputs": [],
   "source": [
    "country_results_df = country_results_df.merge(total_vacc_df, on = 'country')\n",
    "country_results_df.head()"
   ]
  },
  {
   "cell_type": "code",
   "execution_count": null,
   "metadata": {},
   "outputs": [],
   "source": [
    "country_results_df['final_date'] = country_results_df['day_started'] + pd.to_timedelta(country_results_df['days_until_fully_vaccinated'], unit = 'd')"
   ]
  },
  {
   "cell_type": "code",
   "execution_count": null,
   "metadata": {},
   "outputs": [],
   "source": [
    "country_results_df.sort_values(by = 'days_until_fully_vaccinated').head(10)"
   ]
  },
  {
   "cell_type": "code",
   "execution_count": null,
   "metadata": {},
   "outputs": [],
   "source": [
    "country_results_df.sort_values(by = 'final_date')"
   ]
  },
  {
   "cell_type": "code",
   "execution_count": null,
   "metadata": {},
   "outputs": [],
   "source": [
    "## now that we have the final date for each country, let's plot!\n",
    "## here are the \"predictions\" for which day each country will finish vaccinating, along with their current progress as of today\n",
    "## as you can see, which makes fairly intuitive sense, there is a negative correlation between the two\n",
    "## saying that - the more progress already done for a country, the earlier they will be done vaccinating their citizens - makes sense right?\n",
    "fig = px.scatter(country_results_df,\n",
    "           x = 'final_date',\n",
    "           y = 'total_per_hundred',\n",
    "           size = 'population',\n",
    "           hover_name = 'country',\n",
    "           color = 'continent',\n",
    "           size_max = 80,\n",
    "           height = 800,\n",
    "           title = 'Comparing current country vaccination progress with estimated final vaccination date',\n",
    "           labels = dict(total_per_hundred = 'Total Vaccinations per Hundred (as of today)', final_date = 'Rough Estimate for Country to be Fully Vaccinated'))\n",
    "\n",
    "fig.show()"
   ]
  }
 ],
 "metadata": {
  "kernelspec": {
   "display_name": "Python 3",
   "language": "python",
   "name": "python3"
  },
  "language_info": {
   "codemirror_mode": {
    "name": "ipython",
    "version": 3
   },
   "file_extension": ".py",
   "mimetype": "text/x-python",
   "name": "python",
   "nbconvert_exporter": "python",
   "pygments_lexer": "ipython3",
   "version": "3.7.6"
  }
 },
 "nbformat": 4,
 "nbformat_minor": 4
}
